{
 "cells": [
  {
   "cell_type": "code",
   "execution_count": 1,
   "metadata": {},
   "outputs": [],
   "source": [
    "from casadi import *\n",
    "import os\n",
    "from dynamic_model import *"
   ]
  },
  {
   "cell_type": "code",
   "execution_count": 2,
   "metadata": {},
   "outputs": [],
   "source": [
    "track = 1\n",
    "model = dynamic_model(track)"
   ]
  },
  {
   "cell_type": "code",
   "execution_count": 4,
   "metadata": {},
   "outputs": [
    {
     "data": {
      "text/plain": [
       "MX(@1=sin(atan(atan((((0.1*omega)-vy)/vx)))), (vertcat(xdot, ydot, phidot, vxdot, vydot, omegadot)-vertcat(((vx*cos(phi))-(vy*sin(phi))), ((vx*sin(phi))+(vy*cos(phi))), omega, (0.5*((((((1-(2.*vx))*d)-1)-sq(vx))-(@1*sin(delta)))+((2.*vy)*omega))), (0.5*((@1+(@1*cos(delta)))-((2.*vx)*omega))), (((0.1*sin(atan((delta-atan((((0.1*omega)+vy)/vx))))))*cos(delta))-(0.1*@1)))))"
      ]
     },
     "execution_count": 4,
     "metadata": {},
     "output_type": "execute_result"
    }
   ],
   "source": [
    "model.f_impl_expr"
   ]
  },
  {
   "cell_type": "code",
   "execution_count": null,
   "metadata": {},
   "outputs": [],
   "source": []
  }
 ],
 "metadata": {
  "kernelspec": {
   "display_name": "Python 3",
   "language": "python",
   "name": "python3"
  },
  "language_info": {
   "codemirror_mode": {
    "name": "ipython",
    "version": 3
   },
   "file_extension": ".py",
   "mimetype": "text/x-python",
   "name": "python",
   "nbconvert_exporter": "python",
   "pygments_lexer": "ipython3",
   "version": "3.7.3"
  }
 },
 "nbformat": 4,
 "nbformat_minor": 2
}
