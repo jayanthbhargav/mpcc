{
 "cells": [
  {
   "cell_type": "code",
   "execution_count": 10,
   "metadata": {},
   "outputs": [],
   "source": [
    "import numpy as np\n",
    "import matplotlib.pyplot as plt\n",
    "from scipy.linalg import kron\n",
    "import cvxpy as cp\n",
    "%matplotlib qt"
   ]
  },
  {
   "cell_type": "code",
   "execution_count": 5,
   "metadata": {},
   "outputs": [],
   "source": [
    "#track\n",
    "\n",
    "trackx = np.array([0, 0.1, 0.2, 0.3, 0.4, 0.5, 0.6, 0.7, 0.75, \\\n",
    "                  0.8 ,0.8 ,0.8 ,0.8, 0.75, 0.7, 0.6, 0.5, 0.4, 0.3, 0.2, 0.1, 0.05, 0.0, 0.0, 0.0, 0.0 ]) \n",
    "tracky = np.array([0, 0.0, 0.0, 0.0, 0.0, 0.0, 0.0, 0.0, 0.05, \\\n",
    "                  0.1, 0.2, 0.3, 0.4, 0.45, 0.5, 0.5, 0.3, 0.3, 0.5, 0.5, 0.5, 0.45, 0.4, 0.3, 0.2, 0.1 ]) \n",
    "waypoints = np.vstack([trackx,tracky]).T"
   ]
  },
  {
   "cell_type": "code",
   "execution_count": 6,
   "metadata": {},
   "outputs": [
    {
     "data": {
      "text/plain": [
       "<matplotlib.collections.PathCollection at 0x7f50850b8f98>"
      ]
     },
     "execution_count": 6,
     "metadata": {},
     "output_type": "execute_result"
    }
   ],
   "source": [
    "plt.scatter(trackx, tracky)\n"
   ]
  },
  {
   "cell_type": "code",
   "execution_count": 7,
   "metadata": {},
   "outputs": [],
   "source": [
    "def interpolateclosedBezier(waypoints):\n",
    "    n = len(waypoints)\n",
    "    M = np.zeros([n,n])\n",
    "\n",
    "    #build M\n",
    "    tridiagel = np.matrix([[1, 4, 1]])\n",
    "    for idx in range(n-2):\n",
    "        M[idx+1:idx+2, idx:idx+3] = tridiagel\n",
    "\n",
    "    M[0,0:2]= tridiagel[:,1:3]\n",
    "    M[-1,-2:]= tridiagel[:,0:2]\n",
    "    M[0:2,-1] = tridiagel[:,0].reshape(1,-1)\n",
    "    M[-1,0] = tridiagel[:,0].reshape(1,-1)\n",
    "\n",
    "\n",
    "    #build sol vector\n",
    "    s =np.zeros([n,2])\n",
    "    for idx in range(n-1):\n",
    "        s[idx,:] = 2*(2*waypoints[idx,:] + waypoints[idx+1,:])\n",
    "    s[-1:] = 2*(2*waypoints[-1,:] + waypoints[0,:])\n",
    "    \n",
    "    #solve for a & b\n",
    "    Ax = np.linalg.solve(M,s[:,0])\n",
    "    Ay = np.linalg.solve(M,s[:,1])\n",
    "\n",
    "    a = np.vstack([Ax,Ay])\n",
    "    b = np.zeros([2,n])\n",
    "\n",
    "    b[:,:-1] = 2*waypoints.T[:,1:] - a[:,1:]\n",
    "    b[:,0] = 2*waypoints.T[:,0] - a[:,0]\n",
    "    \n",
    "    return a, b\n",
    "    \n",
    "def evalclosedBezier(waypoints, a, b, t):\n",
    "    segment = np.floor(t)\n",
    "    segment = np.int(segment)\n",
    "    n = len(waypoints)\n",
    "    if segment>=n:\n",
    "        t =n-0.0001\n",
    "        segment = n-1\n",
    "    elif t<0:\n",
    "        t = 0\n",
    "    t_val = t-segment\n",
    "    coords = np.power(1 - t_val, 3) * waypoints.T[:,segment] + 3 * np.power(1 - t_val, 2) * t_val * a[:,segment]\\\n",
    "    + 3 * (1 - t_val) * np.power(t_val, 2) * b[:,segment] + np.power(t_val, 3) * waypoints.T[:,np.int(np.mod(segment+1,n))]\n",
    "\n",
    "    return coords\n",
    "\n"
   ]
  },
  {
   "cell_type": "code",
   "execution_count": 8,
   "metadata": {},
   "outputs": [
    {
     "data": {
      "text/plain": [
       "<matplotlib.collections.PathCollection at 0x7f50844699e8>"
      ]
     },
     "execution_count": 8,
     "metadata": {},
     "output_type": "execute_result"
    }
   ],
   "source": [
    "npoints = 10000\n",
    "a, b = interpolateclosedBezier(waypoints)\n",
    "coords =[]\n",
    "tvals = np.linspace(0, 26, npoints)\n",
    "for t in tvals:\n",
    "    coords.append(evalclosedBezier(waypoints, a, b, t))\n",
    "%matplotlib qt\n",
    "coords = np.array(coords)\n",
    "coords.shape\n",
    "\n",
    "plt.plot(coords[:,0],coords[:,1])\n",
    "plt.scatter(trackx, tracky)"
   ]
  },
  {
   "cell_type": "code",
   "execution_count": 9,
   "metadata": {},
   "outputs": [],
   "source": [
    "#compute approx distance to arc param\n",
    "dists = []\n",
    "\n",
    "for idx in range(npoints):\n",
    "    dists.append(np.sqrt(np.sum(np.square(coords[idx,:]-coords[np.mod(idx+1,npoints-1),:]))))\n",
    "\n",
    "plt.figure()\n",
    "plt.plot(tvals, np.cumsum(np.array(dists)))\n",
    "plt.xlabel(\"t (Bezier param) [-]\")\n",
    "plt.ylabel(\"s (approx. distance traveled) [m] \")"
   ]
  },
  {
   "cell_type": "code",
   "execution_count": 28,
   "metadata": {},
   "outputs": [
    {
     "name": "stdout",
     "output_type": "stream",
     "text": [
      "-----------------------------------------------------------------\n",
      "           OSQP v0.6.0  -  Operator Splitting QP Solver\n",
      "              (c) Bartolomeo Stellato,  Goran Banjac\n",
      "        University of Oxford  -  Stanford University 2019\n",
      "-----------------------------------------------------------------\n",
      "problem:  variables n = 10003, constraints m = 10001\n",
      "          nnz(P) + nnz(A) = 50003\n",
      "settings: linear system solver = qdldl,\n",
      "          eps_abs = 1.0e-05, eps_rel = 1.0e-05,\n",
      "          eps_prim_inf = 1.0e-04, eps_dual_inf = 1.0e-04,\n",
      "          rho = 1.00e-01 (adaptive),\n",
      "          sigma = 1.00e-06, alpha = 1.60, max_iter = 10000\n",
      "          check_termination: on (interval 25),\n",
      "          scaling: on, scaled_termination: off\n",
      "          warm start: on, polish: on, time_limit: off\n",
      "\n",
      "iter   objective    pri res    dua res    rho        time\n",
      "   1   0.0000e+00   2.60e+01   1.35e+04   1.00e-01   7.85e-03s\n",
      " 200   1.3577e+07   3.53e-03   5.30e-02   1.02e-02   5.46e-02s\n",
      " 400   1.2720e+07   3.36e-03   5.05e-02   1.02e-02   1.01e-01s\n",
      " 600   1.1943e+07   3.21e-03   4.81e-02   1.02e-02   1.48e-01s\n",
      " 800   1.1236e+07   3.06e-03   4.59e-02   1.02e-02   1.93e-01s\n",
      "1000   1.0594e+07   2.91e-03   4.37e-02   1.02e-02   2.39e-01s\n",
      "1200   1.0011e+07   2.78e-03   4.17e-02   1.02e-02   2.85e-01s\n",
      "1400   9.4810e+06   2.65e-03   3.97e-02   1.02e-02   3.30e-01s\n",
      "1600   8.9999e+06   2.52e-03   3.78e-02   1.02e-02   3.76e-01s\n",
      "1800   8.5628e+06   2.40e-03   3.61e-02   1.02e-02   4.21e-01s\n",
      "2000   8.1657e+06   2.29e-03   3.44e-02   1.02e-02   4.67e-01s\n",
      "2200   7.8051e+06   2.18e-03   3.28e-02   1.02e-02   5.13e-01s\n",
      "2400   7.4774e+06   2.08e-03   3.12e-02   1.02e-02   5.58e-01s\n",
      "2600   7.1798e+06   1.98e-03   2.98e-02   1.02e-02   6.04e-01s\n",
      "2800   6.9095e+06   1.89e-03   2.84e-02   1.02e-02   6.51e-01s\n",
      "3000   6.6639e+06   1.80e-03   2.70e-02   1.02e-02   6.98e-01s\n",
      "3200   6.4408e+06   1.72e-03   2.58e-02   1.02e-02   7.43e-01s\n",
      "3400   6.2382e+06   1.64e-03   2.46e-02   1.02e-02   7.89e-01s\n",
      "3600   6.0541e+06   1.56e-03   2.34e-02   1.02e-02   8.35e-01s\n",
      "3800   5.8869e+06   1.49e-03   2.23e-02   1.02e-02   8.80e-01s\n",
      "4000   5.7364e+06   7.09e-03   2.13e-02   2.04e-03   9.26e-01s\n",
      "4200   5.5983e+06   6.76e-03   2.03e-02   2.04e-03   9.72e-01s\n",
      "4400   5.4728e+06   6.44e-03   1.93e-02   2.04e-03   1.02e+00s\n",
      "4600   5.3589e+06   6.14e-03   1.84e-02   2.04e-03   1.06e+00s\n",
      "4800   5.2554e+06   5.85e-03   1.75e-02   2.04e-03   1.11e+00s\n",
      "5000   5.1613e+06   5.57e-03   1.67e-02   2.04e-03   1.16e+00s\n",
      "5200   5.0759e+06   5.31e-03   1.59e-02   2.04e-03   1.20e+00s\n",
      "5400   4.9983e+06   5.06e-03   1.52e-02   2.04e-03   1.25e+00s\n",
      "5600   4.9279e+06   4.83e-03   1.45e-02   2.04e-03   1.29e+00s\n",
      "5800   4.8639e+06   4.60e-03   1.38e-02   2.04e-03   1.34e+00s\n",
      "6000   4.8057e+06   4.38e-03   1.32e-02   2.04e-03   1.38e+00s\n",
      "6200   4.7529e+06   4.18e-03   1.25e-02   2.04e-03   1.43e+00s\n",
      "6400   4.7049e+06   3.98e-03   1.19e-02   2.04e-03   1.47e+00s\n",
      "6600   4.6613e+06   3.80e-03   1.14e-02   2.04e-03   1.52e+00s\n",
      "6800   4.6217e+06   3.62e-03   1.09e-02   2.04e-03   1.57e+00s\n",
      "7000   4.5857e+06   3.45e-03   1.03e-02   2.04e-03   1.61e+00s\n",
      "7200   4.5531e+06   3.29e-03   9.86e-03   2.04e-03   1.66e+00s\n",
      "7400   4.5234e+06   3.13e-03   9.40e-03   2.04e-03   1.70e+00s\n",
      "7600   4.4964e+06   2.98e-03   8.96e-03   2.04e-03   1.75e+00s\n",
      "7800   4.4719e+06   2.84e-03   8.54e-03   2.04e-03   1.79e+00s\n",
      "8000   4.4497e+06   2.71e-03   8.13e-03   2.04e-03   1.84e+00s\n",
      "8200   4.4295e+06   2.58e-03   7.75e-03   2.04e-03   1.89e+00s\n",
      "8400   4.4111e+06   2.46e-03   7.39e-03   2.04e-03   1.93e+00s\n",
      "8600   4.3944e+06   2.35e-03   7.04e-03   2.04e-03   1.98e+00s\n",
      "8800   4.3793e+06   2.24e-03   6.71e-03   2.04e-03   2.02e+00s\n",
      "9000   4.3655e+06   2.13e-03   6.40e-03   2.04e-03   2.07e+00s\n",
      "9200   4.3530e+06   2.03e-03   6.10e-03   2.04e-03   2.12e+00s\n",
      "9400   4.3417e+06   1.94e-03   5.81e-03   2.04e-03   2.16e+00s\n",
      "9600   4.3314e+06   1.85e-03   5.54e-03   2.04e-03   2.21e+00s\n",
      "9800   4.3220e+06   1.76e-03   5.28e-03   2.04e-03   2.25e+00s\n",
      "10000   4.3135e+06   1.68e-03   5.03e-03   2.04e-03   2.30e+00s\n",
      "\n",
      "status:               solved inaccurate\n",
      "number of iterations: 10000\n",
      "optimal objective:    4313487.0064\n",
      "run time:             2.30e+00s\n",
      "optimal rho estimate: 1.22e-03\n",
      "\n"
     ]
    }
   ],
   "source": [
    "coef = cp.Variable((3,1))\n",
    "#create regressor\n",
    "A = np.vstack((np.power(dists,3),np.power(dists,2),dists)).T\n",
    "y = tvals.reshape(-1,1)\n",
    "smax = dists[-1]\n",
    "\n",
    "objective = cp.Minimize(cp.sum_squares(A@coef-y))\n",
    "constraint = [(A@coef)[-1]==y[-1]]\n",
    "prob = cp.Problem(objective, constraint)\n",
    "\n",
    "result = prob.solve(verbose=True)"
   ]
  },
  {
   "cell_type": "code",
   "execution_count": 26,
   "metadata": {},
   "outputs": [
    {
     "data": {
      "text/plain": [
       "(3, 1)"
      ]
     },
     "execution_count": 26,
     "metadata": {},
     "output_type": "execute_result"
    }
   ],
   "source": [
    "coef.shape"
   ]
  },
  {
   "cell_type": "code",
   "execution_count": 21,
   "metadata": {},
   "outputs": [
    {
     "data": {
      "text/plain": [
       "3.627817424231916e-05"
      ]
     },
     "execution_count": 21,
     "metadata": {},
     "output_type": "execute_result"
    }
   ],
   "source": [
    "dists[100]\n"
   ]
  },
  {
   "cell_type": "code",
   "execution_count": null,
   "metadata": {},
   "outputs": [],
   "source": []
  },
  {
   "cell_type": "code",
   "execution_count": 36,
   "metadata": {},
   "outputs": [
    {
     "data": {
      "text/plain": [
       "(-0.0010536836167503883+0j)"
      ]
     },
     "execution_count": 36,
     "metadata": {},
     "output_type": "execute_result"
    }
   ],
   "source": [
    "\n",
    "coeffs = np.polyfit(np.cumsum(np.array(dists)), tvals, 3)\n",
    "p = np.poly1d(coeffs)\n",
    "pc = coeffs.copy()\n",
    "pc[-1] -= 25.9\n",
    "xmax = np.roots(pc)[0]-.01\n",
    "#plt.plot(np.linspace(0,0.355), p(np.linspace(0,0.355)).real)\n",
    "\n",
    "coords_corr =[]\n",
    "for t in np.linspace(0, xmax, 100):\n",
    "    coords_corr.append(evalclosedBezier(waypoints, a, b, p(t).real))\n",
    "                  \n",
    "dists_corr = []\n",
    "\n",
    "for idx in range(len(coords)):\n",
    "    dists_corr.append(np.sqrt(np.sum(np.square(coords[idx,:]-coords[np.mod(idx+1,len(coords)-1),:]))))\n",
    "\n",
    "#plt.plot(np.linspace(0, xmax, 1000), np.cumsum(np.array(dists_corr)))"
   ]
  },
  {
   "cell_type": "code",
   "execution_count": 116,
   "metadata": {},
   "outputs": [
    {
     "data": {
      "text/plain": [
       "array([[ 6.09773435e-02,  1.68179681e-01,  2.66303932e-01,\n",
       "         3.66604592e-01,  4.67277700e-01,  5.64284609e-01,\n",
       "         6.75583863e-01,  7.33379937e-01,  7.90896388e-01,\n",
       "         8.03034512e-01,  7.96965564e-01,  8.09103231e-01,\n",
       "         7.66621512e-01,  7.24410723e-01,  6.35735598e-01,\n",
       "         5.32646884e-01,  4.33676864e-01,  3.32645659e-01,\n",
       "         2.35740499e-01,  1.24392344e-01,  6.66901232e-02,\n",
       "         8.84716270e-03, -2.07877401e-03, -5.32066669e-04,\n",
       "         4.20704068e-03],\n",
       "       [ 1.30851003e-02, -3.49467676e-03,  8.93606737e-04,\n",
       "        -7.97501934e-05, -5.74605963e-04,  2.37817405e-03,\n",
       "        -8.93809022e-03,  3.33741869e-02,  7.54413428e-02,\n",
       "         1.64860442e-01,  2.65116890e-01,  3.74671999e-01,\n",
       "         4.36195113e-01,  4.80547549e-01,  5.41614690e-01,\n",
       "         3.52993690e-01,  2.46410551e-01,  4.61364106e-01,\n",
       "         5.08133023e-01,  5.06103800e-01,  4.67451776e-01,\n",
       "         4.24089094e-01,  3.36191846e-01,  2.31143522e-01,\n",
       "         1.39234068e-01]])"
      ]
     },
     "execution_count": 116,
     "metadata": {},
     "output_type": "execute_result"
    }
   ],
   "source": [
    "2*waypoints.T[:,1:] - a[:,1:]\n"
   ]
  },
  {
   "cell_type": "code",
   "execution_count": 75,
   "metadata": {},
   "outputs": [
    {
     "data": {
      "text/plain": [
       "(52, 1)"
      ]
     },
     "execution_count": 75,
     "metadata": {},
     "output_type": "execute_result"
    }
   ],
   "source": [
    "b.shape"
   ]
  },
  {
   "cell_type": "code",
   "execution_count": 67,
   "metadata": {},
   "outputs": [
    {
     "data": {
      "text/plain": [
       "array([[0.],\n",
       "       [0.]])"
      ]
     },
     "execution_count": 67,
     "metadata": {},
     "output_type": "execute_result"
    }
   ],
   "source": [
    "waypoints.T[:,0].reshape(-1,1)"
   ]
  },
  {
   "cell_type": "code",
   "execution_count": 22,
   "metadata": {},
   "outputs": [
    {
     "ename": "ValueError",
     "evalue": "could not broadcast input array from shape (12,18) into shape (0,2)",
     "output_type": "error",
     "traceback": [
      "\u001b[0;31m---------------------------------------------------------------------------\u001b[0m",
      "\u001b[0;31mValueError\u001b[0m                                Traceback (most recent call last)",
      "\u001b[0;32m<ipython-input-22-bea7296cf35e>\u001b[0m in \u001b[0;36m<module>\u001b[0;34m\u001b[0m\n\u001b[1;32m      2\u001b[0m \u001b[0mM\u001b[0m \u001b[0;34m=\u001b[0m \u001b[0mnp\u001b[0m\u001b[0;34m.\u001b[0m\u001b[0mmatrix\u001b[0m\u001b[0;34m(\u001b[0m\u001b[0;34m[\u001b[0m\u001b[0;36m2\u001b[0m\u001b[0;34m*\u001b[0m\u001b[0mn\u001b[0m\u001b[0;34m,\u001b[0m\u001b[0mn\u001b[0m\u001b[0;34m]\u001b[0m\u001b[0;34m)\u001b[0m\u001b[0;34m\u001b[0m\u001b[0;34m\u001b[0m\u001b[0m\n\u001b[1;32m      3\u001b[0m \u001b[0mtridiagel\u001b[0m \u001b[0;34m=\u001b[0m \u001b[0mnp\u001b[0m\u001b[0;34m.\u001b[0m\u001b[0mmatrix\u001b[0m\u001b[0;34m(\u001b[0m\u001b[0;34m[\u001b[0m\u001b[0;34m[\u001b[0m\u001b[0;36m1\u001b[0m\u001b[0;34m,\u001b[0m \u001b[0;36m4\u001b[0m\u001b[0;34m,\u001b[0m \u001b[0;36m1\u001b[0m\u001b[0;34m]\u001b[0m\u001b[0;34m,\u001b[0m\u001b[0;34m[\u001b[0m\u001b[0;36m1\u001b[0m\u001b[0;34m,\u001b[0m \u001b[0;36m4\u001b[0m\u001b[0;34m,\u001b[0m \u001b[0;36m1\u001b[0m\u001b[0;34m]\u001b[0m\u001b[0;34m]\u001b[0m\u001b[0;34m)\u001b[0m\u001b[0;34m\u001b[0m\u001b[0;34m\u001b[0m\u001b[0m\n\u001b[0;32m----> 4\u001b[0;31m \u001b[0mM\u001b[0m\u001b[0;34m[\u001b[0m\u001b[0;36m3\u001b[0m\u001b[0;34m:\u001b[0m\u001b[0mn\u001b[0m\u001b[0;34m-\u001b[0m\u001b[0;36m2\u001b[0m\u001b[0;34m,\u001b[0m\u001b[0;34m:\u001b[0m\u001b[0;34m]\u001b[0m \u001b[0;34m=\u001b[0m \u001b[0mkron\u001b[0m\u001b[0;34m(\u001b[0m\u001b[0mnp\u001b[0m\u001b[0;34m.\u001b[0m\u001b[0meye\u001b[0m\u001b[0;34m(\u001b[0m\u001b[0mn\u001b[0m\u001b[0;34m)\u001b[0m\u001b[0;34m,\u001b[0m\u001b[0mtridiagel\u001b[0m\u001b[0;34m)\u001b[0m\u001b[0;34m\u001b[0m\u001b[0;34m\u001b[0m\u001b[0m\n\u001b[0m",
      "\u001b[0;31mValueError\u001b[0m: could not broadcast input array from shape (12,18) into shape (0,2)"
     ]
    }
   ],
   "source": [
    "n=6\n",
    "M = np.matrix([2*n,n])\n",
    "tridiagel = np.matrix([[1, 4, 1],[1, 4, 1]])\n",
    "M[3:n-2,:] = kron(np.eye(n),tridiagel)"
   ]
  },
  {
   "cell_type": "code",
   "execution_count": 24,
   "metadata": {},
   "outputs": [
    {
     "data": {
      "text/plain": [
       "(12, 18)"
      ]
     },
     "execution_count": 24,
     "metadata": {},
     "output_type": "execute_result"
    }
   ],
   "source": [
    "kron(np.eye(n),tridiagel).shape"
   ]
  },
  {
   "cell_type": "code",
   "execution_count": 27,
   "metadata": {},
   "outputs": [],
   "source": [
    "C = 4 * np.identity(n)\n",
    "#np.fill_diagonal(C[1:], 1)\n",
    "np.fill_diagonal(C[:, 1:], 1)"
   ]
  },
  {
   "cell_type": "code",
   "execution_count": 28,
   "metadata": {},
   "outputs": [
    {
     "data": {
      "text/plain": [
       "array([[4., 1., 0., 0., 0., 0.],\n",
       "       [0., 4., 1., 0., 0., 0.],\n",
       "       [0., 0., 4., 1., 0., 0.],\n",
       "       [0., 0., 0., 4., 1., 0.],\n",
       "       [0., 0., 0., 0., 4., 1.],\n",
       "       [0., 0., 0., 0., 0., 4.]])"
      ]
     },
     "execution_count": 28,
     "metadata": {},
     "output_type": "execute_result"
    }
   ],
   "source": [
    "C"
   ]
  },
  {
   "cell_type": "code",
   "execution_count": 29,
   "metadata": {},
   "outputs": [
    {
     "data": {
      "text/plain": [
       "array([[1., 0., 0., 0., 0.],\n",
       "       [4., 1., 0., 0., 0.],\n",
       "       [0., 4., 1., 0., 0.],\n",
       "       [0., 0., 4., 1., 0.],\n",
       "       [0., 0., 0., 4., 1.],\n",
       "       [0., 0., 0., 0., 4.]])"
      ]
     },
     "execution_count": 29,
     "metadata": {},
     "output_type": "execute_result"
    }
   ],
   "source": [
    "C[:, 1:]"
   ]
  },
  {
   "cell_type": "code",
   "execution_count": null,
   "metadata": {},
   "outputs": [],
   "source": []
  }
 ],
 "metadata": {
  "kernelspec": {
   "display_name": "Python 3",
   "language": "python",
   "name": "python3"
  },
  "language_info": {
   "codemirror_mode": {
    "name": "ipython",
    "version": 3
   },
   "file_extension": ".py",
   "mimetype": "text/x-python",
   "name": "python",
   "nbconvert_exporter": "python",
   "pygments_lexer": "ipython3",
   "version": "3.7.3"
  }
 },
 "nbformat": 4,
 "nbformat_minor": 2
}
