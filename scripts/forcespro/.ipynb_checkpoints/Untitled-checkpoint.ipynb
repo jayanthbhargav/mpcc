{
 "cells": [
  {
   "cell_type": "code",
   "execution_count": 11,
   "metadata": {},
   "outputs": [],
   "source": [
    "import numpy as np\n",
    "from generate_solver_dynamic import get_forces_solver_dynamic\n",
    "from python_sim_utils import   plotter, plot_pajecka, compute_objective\n",
    "import matplotlib.pyplot as plt\n",
    "import InterpolateTrack\n",
    "import yaml"
   ]
  },
  {
   "cell_type": "code",
   "execution_count": 10,
   "metadata": {},
   "outputs": [
    {
     "ename": "NameError",
     "evalue": "name 'yaml' is not defined",
     "output_type": "error",
     "traceback": [
      "\u001b[0;31m---------------------------------------------------------------------------\u001b[0m",
      "\u001b[0;31mNameError\u001b[0m                                 Traceback (most recent call last)",
      "\u001b[0;32m<ipython-input-10-d0a4496871ee>\u001b[0m in \u001b[0;36m<module>\u001b[0;34m\u001b[0m\n\u001b[1;32m      1\u001b[0m \u001b[0mparamfile\u001b[0m \u001b[0;34m=\u001b[0m \u001b[0;34m\"parameters/modelparams.yaml\"\u001b[0m\u001b[0;34m\u001b[0m\u001b[0;34m\u001b[0m\u001b[0m\n\u001b[1;32m      2\u001b[0m \u001b[0;32mwith\u001b[0m \u001b[0mopen\u001b[0m\u001b[0;34m(\u001b[0m\u001b[0mparamfile\u001b[0m\u001b[0;34m)\u001b[0m \u001b[0;32mas\u001b[0m \u001b[0mfile\u001b[0m\u001b[0;34m:\u001b[0m\u001b[0;34m\u001b[0m\u001b[0;34m\u001b[0m\u001b[0m\n\u001b[0;32m----> 3\u001b[0;31m         \u001b[0mparams\u001b[0m \u001b[0;34m=\u001b[0m \u001b[0myaml\u001b[0m\u001b[0;34m.\u001b[0m\u001b[0mload\u001b[0m\u001b[0;34m(\u001b[0m\u001b[0mfile\u001b[0m\u001b[0;34m,\u001b[0m \u001b[0mLoader\u001b[0m\u001b[0;34m=\u001b[0m \u001b[0myaml\u001b[0m\u001b[0;34m.\u001b[0m\u001b[0mFullLoader\u001b[0m\u001b[0;34m)\u001b[0m\u001b[0;34m\u001b[0m\u001b[0;34m\u001b[0m\u001b[0m\n\u001b[0m\u001b[1;32m      4\u001b[0m \u001b[0mlf\u001b[0m \u001b[0;34m=\u001b[0m \u001b[0mparams\u001b[0m\u001b[0;34m[\u001b[0m\u001b[0;34m'lf'\u001b[0m\u001b[0;34m]\u001b[0m \u001b[0;31m#[m]\u001b[0m\u001b[0;34m\u001b[0m\u001b[0;34m\u001b[0m\u001b[0m\n\u001b[1;32m      5\u001b[0m \u001b[0mlr\u001b[0m \u001b[0;34m=\u001b[0m \u001b[0mparams\u001b[0m\u001b[0;34m[\u001b[0m\u001b[0;34m'lr'\u001b[0m\u001b[0;34m]\u001b[0m \u001b[0;31m#[m]\u001b[0m\u001b[0;34m\u001b[0m\u001b[0;34m\u001b[0m\u001b[0m\n",
      "\u001b[0;31mNameError\u001b[0m: name 'yaml' is not defined"
     ]
    }
   ],
   "source": [
    "paramfile = \"parameters/modelparams.yaml\"\n",
    "with open(paramfile) as file:\n",
    "        params = yaml.load(file, Loader= yaml.FullLoader)\n",
    "lf = params['lf'] #[m]\n",
    "lr = params['lr'] #[m]\n",
    "lencar = lf+lr\n",
    "r = 0.2\n",
    "track_lu_table, smax = InterpolateTrack.generatelookuptable(\"tracks/indi500xd\")\n",
    "trk_plt = plotter(track_lu_table, smax, r, lencar)\n",
    "trk_plt.plot_track()"
   ]
  },
  {
   "cell_type": "code",
   "execution_count": 3,
   "metadata": {},
   "outputs": [
    {
     "data": {
      "image/png": "[encoded data removed]",
      "text/plain": [
       "<Figure size 432x288 with 1 Axes>"
      ]
     },
     "metadata": {
      "needs_background": "light"
     },
     "output_type": "display_data"
    }
   ],
   "source": [
    "trackx = 8*np.array([0.05, 0.1, 0.2, 0.3, 0.4, 0.5, 0.6, 0.7, 0.75, \\\n",
    "                  0.8 ,0.5 ,0.8 ,0.8, 0.75, 0.7, 0.6, 0.5, 0.4, 0.3, 0.2, 0.1, 0.05, 0.0, 0.0, 0.0, 0.0 ]) \n",
    "tracky = 8*np.array([0.05, 0.3, 0.4, 0.2, 0.2, 0.0, 0.0, 0.0, 0.05, \\\n",
    "                  0.1, 0.2, 0.3, 0.4, 0.45, 0.5, 0.5, 0.3, 0.3, 0.5, 0.5, 0.5, 0.45, 0.4, 0.3, 0.2, 0.1 ]) \n",
    "waypoints = np.vstack([trackx,tracky]).T\n",
    "plt.scatter(trackx, tracky)\n",
    "np.savetxt('tracks/sample_track.csv', waypoints, delimiter = ', ')"
   ]
  },
  {
   "cell_type": "code",
   "execution_count": 3,
   "metadata": {},
   "outputs": [],
   "source": [
    "a = np.array([1,2,3,4,4,5,6,6,7,8,9])\n",
    "b = np.delete(a,[2,3,4,5])"
   ]
  },
  {
   "cell_type": "code",
   "execution_count": 7,
   "metadata": {},
   "outputs": [],
   "source": [
    "import matplotlib.pyplot as plt\n",
    "import numpy as np\n",
    "import matplotlib.patches as patches\n",
    "import matplotlib"
   ]
  },
  {
   "cell_type": "code",
   "execution_count": 49,
   "metadata": {},
   "outputs": [
    {
     "data": {
      "text/plain": [
       "<matplotlib.collections.PathCollection at 0x7f74e29d66d8>"
      ]
     },
     "execution_count": 49,
     "metadata": {},
     "output_type": "execute_result"
    },
    {
     "data": {
      "image/png": "[encoded data removed]",
      "text/plain": [
       "<Figure size 720x720 with 1 Axes>"
      ]
     },
     "metadata": {
      "needs_background": "light"
     },
     "output_type": "display_data"
    }
   ],
   "source": [
    "deg2rad = 3.14159/180\n",
    "rad2deg = 1/deg2rad\n",
    "phi_ob = 60 * deg2rad\n",
    "lob = 2 \n",
    "wob = 1.5 \n",
    "xob = 1\n",
    "yob = 0.5\n",
    "\n",
    "fig, ax = plt.subplots(nrows = 1, ncols = 1, figsize = (10,10))\n",
    "tr = matplotlib.transforms.Affine2D().rotate_deg_around(xob, yob, phi_ob*rad2deg)\n",
    "ts = ax.transData\n",
    "t = tr + ts\n",
    "\n",
    "obst = patches.Rectangle((xob-lob/2, yob-wob/2),lob, wob,\\\n",
    "        linewidth=1,edgecolor='k',facecolor='none', transform= t)\n",
    "obst = ax.add_patch(obst)\n",
    "ax.scatter(xob,yob)\n",
    "ax.set_xlim([-2,3.5])\n",
    "ax.set_ylim([-2,3.5])\n",
    "\n",
    "def implicit_ellipse(x,y,xc,yc,phi, a, b):\n",
    "    dx = x-xc\n",
    "    dy = y-yc\n",
    "    s = np.sin(phi)\n",
    "    c = np.cos(phi)\n",
    "    return (1/a**2)*np.square(c*dx+s*dy)+(1/b**2)*np.square(s*dx-c*dy)\n",
    "\n",
    "x = np.linspace(-1,3, 1000)\n",
    "y = np.linspace(-1,3, 1000)\n",
    "coords = []\n",
    "for idx1 in range(len(x)):\n",
    "    for idx2 in range(len(y)):\n",
    "        coords.append(np.array([x[idx1], y[idx2]]))\n",
    "coords = np.array(coords)\n",
    "scalar = np.sqrt(2)\n",
    "funcvals = implicit_ellipse(coords[:,0], coords[:,1], xob, yob, phi_ob, scalar*lob/2 , scalar*wob/2)\n",
    "idx = np.where(funcvals<1.02)\n",
    "coords = coords[idx]\n",
    "idx = np.where(funcvals[idx]>0.98)\n",
    "coords = coords[idx]\n",
    "ax.scatter(coords[:,0],coords[:,1], s = 1)"
   ]
  },
  {
   "cell_type": "code",
   "execution_count": 20,
   "metadata": {},
   "outputs": [
    {
     "data": {
      "text/plain": [
       "(10000, 2)"
      ]
     },
     "execution_count": 20,
     "metadata": {},
     "output_type": "execute_result"
    }
   ],
   "source": [
    "coords.shape\n"
   ]
  },
  {
   "cell_type": "code",
   "execution_count": 25,
   "metadata": {},
   "outputs": [],
   "source": [
    "idx = np.where(funcvals<1.1)\n",
    "idx = np.where(funcvals[idx1]>0.9)"
   ]
  },
  {
   "cell_type": "code",
   "execution_count": 4,
   "metadata": {},
   "outputs": [],
   "source": [
    "import casadi\n",
    "import numpy as np\n",
    "import yaml\n",
    "from dynamics import dynamics_simulator\n",
    "\n",
    "\n",
    "modelparams = \"parameters/modelparams.yaml\"\n",
    "Tf = 1.5\n",
    "N = 35\n",
    "Ts = Tf/N\n",
    "x0 = np.array([3,4, 0, 1.0, 0.1, 0, 0.2, -0.1, 3])\n",
    "u = np.array([-5, -1, 0.2])\n",
    "dynamics_1n = dynamics_simulator(modelparams, Ts, x0, 1)\n",
    "dynamics_3n = dynamics_simulator(modelparams, Ts, x0, 3)\n",
    "dynamics_30n = dynamics_simulator(modelparams, Ts, x0, 30)\n",
    "dynamics_40n = dynamics_simulator(modelparams, Ts, x0, 40)\n",
    "\n",
    "x1n = dynamics_1n.tick(u)\n",
    "x3n = dynamics_3n.tick(u)\n",
    "x30n = dynamics_30n.tick(u)\n",
    "x40n = dynamics_40n.tick(u)"
   ]
  },
  {
   "cell_type": "code",
   "execution_count": 7,
   "metadata": {},
   "outputs": [
    {
     "data": {
      "text/plain": [
       "array([ 3.04263118e+00,  4.00147286e+00, -1.15924820e-02,  9.80879439e-01,\n",
       "       -3.51592294e-03, -6.64111267e-01, -1.42857143e-02, -1.42857143e-01,\n",
       "        3.00857143e+00])"
      ]
     },
     "execution_count": 7,
     "metadata": {},
     "output_type": "execute_result"
    }
   ],
   "source": [
    "x3n"
   ]
  },
  {
   "cell_type": "code",
   "execution_count": 6,
   "metadata": {},
   "outputs": [
    {
     "data": {
      "text/plain": [
       "array([ 3.04263127e+00,  4.00147338e+00, -1.15992982e-02,  9.80880414e-01,\n",
       "       -3.52881727e-03, -6.63762638e-01, -1.42857143e-02, -1.42857143e-01,\n",
       "        3.00857143e+00])"
      ]
     },
     "execution_count": 6,
     "metadata": {},
     "output_type": "execute_result"
    }
   ],
   "source": [
    "x40n"
   ]
  },
  {
   "cell_type": "code",
   "execution_count": 26,
   "metadata": {},
   "outputs": [
    {
     "name": "stdout",
     "output_type": "stream",
     "text": [
      "x0 =  [ 3.   4.   0.   1.   0.1  0.   0.2 -0.1  3. ]\n",
      "xend =  [ 3.01999351e+00  4.00128844e+00 -1.68692705e-03  9.97440759e-01\n",
      "  3.57579239e-02 -2.17942062e-01  1.00000000e-01 -1.20000000e-01\n",
      "  3.00400000e+00]\n"
     ]
    }
   ],
   "source": [
    "def integrate(Ts,f,x0,u):\n",
    "    k1 = f(x0,u).__array__().reshape(-1,)\n",
    "    k2 = f(x0 + Ts/2 * k1, u).__array__().reshape(-1,)\n",
    "    k3 = f(x0 + Ts/2 * k2, u).__array__().reshape(-1,)\n",
    "    k4 = f(x0 + Ts * k3, u).__array__().reshape(-1,)\n",
    "    return x0 + 1/6 * Ts*(k1 + 2* k2 + 2*k3 + k4).reshape(-1,)\n",
    "\n",
    "\n",
    "\n",
    "print(\"x0 = \", x0)\n",
    "xend = integrate(Ts, f, x0, u)\n",
    "print(\"xend = \", xend)"
   ]
  },
  {
   "cell_type": "code",
   "execution_count": 23,
   "metadata": {},
   "outputs": [],
   "source": [
    "k1 = f(x0,u).__array__().reshape(-1,)\n",
    "k2 = f(x0 + Ts/2 * k1, u).__array__().reshape(-1,)\n",
    "k3 = f(x0 + Ts/2 * k2, u).__array__().reshape(-1,)\n",
    "k4 = f(x0 + Ts * k3, u).__array__().reshape(-1,)"
   ]
  },
  {
   "cell_type": "code",
   "execution_count": 28,
   "metadata": {},
   "outputs": [],
   "source": [
    "thetaend = 3+ Ts * 0.2"
   ]
  },
  {
   "cell_type": "code",
   "execution_count": 30,
   "metadata": {},
   "outputs": [
    {
     "data": {
      "text/plain": [
       "0.1"
      ]
     },
     "execution_count": 30,
     "metadata": {},
     "output_type": "execute_result"
    }
   ],
   "source": [
    "0.2-Ts*5\n"
   ]
  },
  {
   "cell_type": "code",
   "execution_count": 8,
   "metadata": {},
   "outputs": [],
   "source": [
    "a = np.array([1,2,3,4,5,6])"
   ]
  },
  {
   "cell_type": "code",
   "execution_count": 9,
   "metadata": {},
   "outputs": [
    {
     "data": {
      "text/plain": [
       "array([1, 2])"
      ]
     },
     "execution_count": 9,
     "metadata": {},
     "output_type": "execute_result"
    }
   ],
   "source": [
    "a[:2]"
   ]
  },
  {
   "cell_type": "code",
   "execution_count": 2,
   "metadata": {},
   "outputs": [
    {
     "data": {
      "text/plain": [
       "array([[1, 2, 3, 4, 5],\n",
       "       [2, 4, 5, 6, 7],\n",
       "       [3, 4, 5, 6, 7],\n",
       "       [4, 4, 5, 6, 7]])"
      ]
     },
     "execution_count": 2,
     "metadata": {},
     "output_type": "execute_result"
    }
   ],
   "source": [
    "import numpy as np\n",
    "\n",
    "a = np.array([[1,2,3,4,5],[2,4,5,6,7],[3,4,5,6,7],[4,4,5,6,7]])\n",
    "a"
   ]
  },
  {
   "cell_type": "code",
   "execution_count": 3,
   "metadata": {},
   "outputs": [
    {
     "data": {
      "text/plain": [
       "array([1, 2, 3, 4, 5])"
      ]
     },
     "execution_count": 3,
     "metadata": {},
     "output_type": "execute_result"
    }
   ],
   "source": [
    "b = a[0,:]\n",
    "b"
   ]
  },
  {
   "cell_type": "code",
   "execution_count": 8,
   "metadata": {},
   "outputs": [
    {
     "name": "stdout",
     "output_type": "stream",
     "text": [
      "1\n",
      "2\n",
      "3\n",
      "4\n",
      "5\n"
     ]
    }
   ],
   "source": [
    "for idx in b:\n",
    "    print(idx)"
   ]
  },
  {
   "cell_type": "code",
   "execution_count": 7,
   "metadata": {},
   "outputs": [
    {
     "data": {
      "text/plain": [
       "array([4, 4, 4])"
      ]
     },
     "execution_count": 7,
     "metadata": {},
     "output_type": "execute_result"
    }
   ],
   "source": [
    "trackx = np.array([-3.2,\n",
    "-3,\n",
    "-2.4,\n",
    "-1.8,\n",
    "0,\n",
    "0.6,\n",
    "1.2,\n",
    "1.4,\n",
    "1.2,\n",
    "0.6,\n",
    "0,\n",
    "-1.8,\n",
    "-2.4,\n",
    "-3])\n",
    "\n",
    "tracky = np.array([-1.2,\n",
    "-1.8,\n",
    "-2.4,\n",
    "-2.6,\n",
    "2.6,\n",
    "-2.4,\n",
    "-1.8,\n",
    "-1.2,\n",
    "-0.6,\n",
    "0,\n",
    "0.2,\n",
    "0.2,\n",
    "0,\n",
    "0.6 ])\n"
   ]
  },
  {
   "cell_type": "code",
   "execution_count": null,
   "metadata": {},
   "outputs": [],
   "source": []
  }
 ],
 "metadata": {
  "kernelspec": {
   "display_name": "Python 3",
   "language": "python",
   "name": "python3"
  },
  "language_info": {
   "codemirror_mode": {
    "name": "ipython",
    "version": 3
   },
   "file_extension": ".py",
   "mimetype": "text/x-python",
   "name": "python",
   "nbconvert_exporter": "python",
   "pygments_lexer": "ipython3",
   "version": "3.6.9"
  }
 },
 "nbformat": 4,
 "nbformat_minor": 4
}
